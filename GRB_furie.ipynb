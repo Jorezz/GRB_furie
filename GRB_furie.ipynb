{
 "cells": [
  {
   "cell_type": "code",
   "execution_count": null,
   "metadata": {
    "collapsed": false,
    "pycharm": {
     "name": "#%%\n"
    }
   },
   "outputs": [],
   "source": [
    "import numpy as np\n",
    "import pandas as pd\n",
    "import matplotlib.pyplot as plt\n",
    "import matplotlib.gridspec as gridspec\n",
    "import datetime\n",
    "import time\n",
    "import urllib\n",
    "import os\n",
    "from tqdm import tqdm\n",
    "import math\n",
    "import requests\n",
    "from astropy.time import Time\n",
    "from scipy.optimize import curve_fit\n",
    "import plotly.express as px\n",
    "from bs4 import BeautifulSoup\n",
    "import requests, lxml, re, json\n",
    "import pickle\n",
    "from umap import UMAP\n",
    "from astropy.io import fits\n",
    "import plotly.express as px\n",
    "import sys\n",
    "sys.path.insert(0,'../pygrb')\n",
    "import warnings\n",
    "warnings.filterwarnings('ignore')\n",
    "from grb.light_curves import *\n",
    "from grb.furie import *"
   ]
  },
  {
   "attachments": {},
   "cell_type": "markdown",
   "metadata": {},
   "source": [
    "Load Konus-wind catalog of GRB with known reshift"
   ]
  },
  {
   "cell_type": "code",
   "execution_count": null,
   "metadata": {},
   "outputs": [],
   "source": [
    "with open('data/redshifts.pkl','rb') as f:\n",
    "    redshifts = pickle.load(f)\n",
    "\n",
    "detectors = {0:'n0',1:'n1',2:'n2',3:'n3',4:'n4',5:'n5',6:'n6',7:'n7',8:'n8',9:'n9',10:'na',11:'nb',12:'b0',13:'b1'}\n",
    "with open('data/fermi_bursts_cat.txt','r') as f:\n",
    "    gbm_cat = pd.DataFrame([line.split() for line in f],columns=['grb_name','date','time','t90','t90_start','grb_code','mask']).dropna()\n",
    "    gbm_cat['redshift'] = gbm_cat['grb_code'].apply(lambda x:redshifts.get(x,None))\n",
    "gbm_cat['mask'] = gbm_cat['mask'].str[:12]\n",
    "gbm_cat = gbm_cat.set_index('grb_code')"
   ]
  },
  {
   "attachments": {},
   "cell_type": "markdown",
   "metadata": {},
   "source": [
    "Load light curve data using pygrb package"
   ]
  },
  {
   "cell_type": "code",
   "execution_count": null,
   "metadata": {},
   "outputs": [],
   "source": [
    "def load_furie_data(redshifts, apply_redshift = True):\n",
    "    pds = {}\n",
    "    lcs = {}\n",
    "    for code in redshifts:\n",
    "        try:\n",
    "            catalog_data = gbm_cat.loc[code]\n",
    "        except KeyError:\n",
    "            logging.error(f'{code} not found')\n",
    "            continue\n",
    "        try:\n",
    "            lc = GBM_LightCurve.load(f'{code}_{apply_redshift}')\n",
    "        except FileNotFoundError:\n",
    "            if apply_redshift:\n",
    "                lc = GBM_LightCurve(code,catalog_data['mask'],catalog_data['redshift'],filter_energy={'low_en':50,'high_en':300},apply_redshift=True)\n",
    "            else:\n",
    "                lc = GBM_LightCurve(code,catalog_data['mask'],catalog_data['redshift'])\n",
    "            lc.save(f'{code}_{apply_redshift}')\n",
    "        try:\n",
    "            if apply_redshift:\n",
    "                pds[code] = FurieLightCurve(lc,(float(catalog_data['t90_start'])/(1+redshifts[code]),(float(catalog_data['t90'])+float(catalog_data['t90_start']))/(1+redshifts[code])),pad_size=30000)\n",
    "            else:\n",
    "                pds[code] = FurieLightCurve(lc,(float(catalog_data['t90_start']),(float(catalog_data['t90'])+float(catalog_data['t90_start']))),pad_size=30000)\n",
    "            lcs[code] = lc.rebin() # reset data\n",
    "        except Exception as e:\n",
    "            logging.error(e)\n",
    "    return pds,lcs"
   ]
  },
  {
   "cell_type": "code",
   "execution_count": null,
   "metadata": {},
   "outputs": [],
   "source": [
    "pds_i, lcs_i = load_furie_data(redshifts)\n",
    "pds_o, lcs_o = load_furie_data(redshifts, apply_redshift=False)"
   ]
  },
  {
   "attachments": {},
   "cell_type": "markdown",
   "metadata": {},
   "source": [
    "Test calcultions on GRB 150301 and its background interval"
   ]
  },
  {
   "cell_type": "code",
   "execution_count": null,
   "metadata": {},
   "outputs": [],
   "source": [
    "code = 'bn150301818'\n",
    "lcs_i[code].set_intervals((lcs_i[code].times[0],float(gbm_cat.loc[code]['t90_start'])/(1+redshifts[code])-15)).plot()\n",
    "np.mean(lcs_i[code].signal),np.var(lcs_i[code].signal)"
   ]
  },
  {
   "cell_type": "code",
   "execution_count": null,
   "metadata": {},
   "outputs": [],
   "source": [
    "plt.plot(*make_pds(lcs_i[code].signal,0.01,None))\n",
    "print(np.mean(make_pds(lcs_i[code].signal,0.01,None)[1]))\n",
    "plt.axhline(2)\n",
    "plt.xscale('log')\n",
    "plt.yscale('log')"
   ]
  },
  {
   "cell_type": "code",
   "execution_count": null,
   "metadata": {},
   "outputs": [],
   "source": [
    "# summed = []\n",
    "# fig = plt.figure()\n",
    "res = []\n",
    "for code in lcs:\n",
    "    if code not in ('bn150101641','bn100814160','bn090926181') :\n",
    "        try:\n",
    "            # lcs[code].set_intervals((lcs[code].times[0],min(float(catalog_data['t90_start'])/(1+redshifts[code]),0))).plot()\n",
    "            # print(lcs[code].times[0],min(float(gbm_cat.loc[code]['t90_start'])/(1+redshifts[code]),0))\n",
    "            times, data = limit_to_time_interval(lcs[code].times,\n",
    "                                          lcs[code].signal,\n",
    "                                          (lcs[code].times[0],float(gbm_cat.loc[code]['t90_start'])/(1+redshifts[code])-15))\n",
    "            param = np.polyfit(times,data,1)\n",
    "            data = data - np.polyval(param,times)\n",
    "            # print(lcs[code].times.shape, data[1].shape, lcs[code].times[0], min(float(gbm_cat.loc[code]['t90_start'])/(1+redshifts[code]),0))\n",
    "            res += list(make_pds(data+np.square(np.std(data)), \n",
    "                                                       lcs[code].resolution,\n",
    "                                                       None)[1][make_pds(data+np.square(np.std(data)), \n",
    "                                                       lcs[code].resolution,\n",
    "                                                       None)[0]>20])\n",
    "            # summed.append([code,s,s_err,redshifts[code],float(gbm_cat.loc[code]['t90'])/(1+redshifts[code])])\n",
    "            # plt.scatter(t,s)\n",
    "            # plt.axhline(2)\n",
    "            # plt.xscale('log')\n",
    "            # plt.yscale('log')\n",
    "        except Exception as e:\n",
    "            pass"
   ]
  },
  {
   "cell_type": "code",
   "execution_count": null,
   "metadata": {},
   "outputs": [],
   "source": [
    "plt.hist(res,bins=np.logspace(-2,2,30))\n",
    "plt.axvline(2,color='red')\n",
    "plt.axvline(np.median(res),color='black')\n",
    "plt.xscale(\"log\")\n",
    "print(2,np.median(res))"
   ]
  },
  {
   "cell_type": "code",
   "execution_count": null,
   "metadata": {},
   "outputs": [],
   "source": [
    "summed = []\n",
    "for code in pds:\n",
    "    if code not in ('bn150101641','bn100814160','bn090926181') :\n",
    "        \n",
    "        t,t_err,s,s_err = group_log_bins(pds[code].freqs,pds[code].ps,N_bins=30)\n",
    "        summed.append([code,s,s_err,redshifts[code],float(gbm_cat.loc[code]['t90'])/(1+redshifts[code])])\n",
    "        pds[code].plot()\n",
    "        plt.axhline(2)\n",
    "        # plt.title(code)\n",
    "        # plt.show()"
   ]
  },
  {
   "cell_type": "code",
   "execution_count": null,
   "metadata": {},
   "outputs": [],
   "source": [
    "res = pd.DataFrame(summed,columns=['code','vector','s_err','z','t90'])\n",
    "res = res[res['vector'].apply(sum)>0]\n",
    "\n",
    "plt.errorbar(t[2:],\n",
    "            (np.sum(res['vector'].apply(lambda x:(np.asarray(x)-2)/np.sum(x)),axis=0))[2:]*np.power(t[2:],1.2),\n",
    "            xerr = t_err[2:],\n",
    "            yerr=np.sqrt(np.sum(res['s_err'].apply(lambda x:np.square(np.asarray(x)))/np.square(res['vector'].apply(lambda x:np.sum(x))),axis=0)/86)[2:]*np.power(t[2:],1.2),fmt='o')\n",
    "plt.xscale('log')\n",
    "plt.yscale('log')\n",
    "plt.title(f\"median z = {res['z'].median()}, median t90 = {res['t90'].median()}\")"
   ]
  },
  {
   "cell_type": "code",
   "execution_count": null,
   "metadata": {},
   "outputs": [],
   "source": [
    "res_2 = pd.DataFrame(summed,columns=['code','vector','s_err','z','t90'])\n",
    "res_2 = res_2[res_2['vector'].apply(sum)>0]\n",
    "res = res_2[res_2['z']<(res_2['z'].median()/1)]\n",
    "\n",
    "plt.errorbar(t[2:],\n",
    "            (np.sum(res['vector'].apply(lambda x:(np.asarray(x)-2)/np.sum(x)),axis=0))[2:]*np.power(t[2:],0.8),\n",
    "            xerr = t_err[2:],\n",
    "            yerr=np.sqrt(np.sum(res['s_err'].apply(lambda x:np.square(np.asarray(x)))/np.square(res['vector'].apply(lambda x:np.sum(x))),axis=0)/res.shape[0])[2:]*np.power(t[2:],0.8),fmt='o')\n",
    "plt.xscale('log')\n",
    "plt.yscale('log')\n",
    "plt.title(f\"median z = {res['z'].median()}, median t90 = {res['t90'].median()}\")\n",
    "# plt.ylim(6e-2,2e-1)"
   ]
  },
  {
   "cell_type": "code",
   "execution_count": null,
   "metadata": {},
   "outputs": [],
   "source": [
    "res_2 = pd.DataFrame(summed,columns=['code','vector','s_err','z','t90'])\n",
    "res_2 = res_2[res_2['vector'].apply(sum)>0]\n",
    "res = res_2[res_2['z']>(res_2['z'].median()/1)]\n",
    "\n",
    "plt.errorbar(t[2:],\n",
    "            (np.sum(res['vector'].apply(lambda x:(np.asarray(x)-2)/np.sum(x)),axis=0))[2:]*np.power(t[2:],1.2),\n",
    "            xerr = t_err[2:],\n",
    "            yerr=np.sqrt(np.sum(res['s_err'].apply(lambda x:np.square(np.asarray(x)))/np.square(res['vector'].apply(lambda x:np.sum(x))),axis=0)/res.shape[0])[2:]*np.power(t[2:],1.2),fmt='o')\n",
    "plt.xscale('log')\n",
    "plt.yscale('log')\n",
    "plt.title(f\"median z = {res['z'].median()}, median t90 = {res['t90'].median()}\")"
   ]
  },
  {
   "cell_type": "code",
   "execution_count": null,
   "metadata": {},
   "outputs": [],
   "source": [
    "res = pd.DataFrame(summed,columns=['code','vector','s_err','z'])\n",
    "res = res[res['vector'].apply(sum)>0]\n",
    "\n",
    "plt.errorbar(t[2:],np.sum(res['vector'].apply(lambda x:np.asarray(x)-2),axis=0)[2:]*np.power(t[2:],1.6),yerr = np.sqrt(np.sum(res['s_err'].apply(lambda x:np.square(np.asarray(x))),axis=0)/86)[2:]*np.power(t[2:],1.6),xerr = t_err[2:],fmt='o')\n",
    "plt.xscale('log')\n",
    "plt.yscale('log')"
   ]
  },
  {
   "cell_type": "code",
   "execution_count": null,
   "metadata": {},
   "outputs": [],
   "source": [
    "bkg_data = {}\n",
    "for code in redshifts:\n",
    "    try:\n",
    "        catalog_data = gbm_cat.loc[code]\n",
    "    except KeyError:\n",
    "        print(code,'not found')\n",
    "        continue\n",
    "    try:\n",
    "        lc = GBM_LightCurve.load(code)\n",
    "    except FileNotFoundError:\n",
    "        lc = GBM_LightCurve(code,catalog_data['mask'],catalog_data['redshift'],save_photons=True,filter_energy=False)\n",
    "        lc.save(code)\n",
    "    dat = lc.photon_data[(lc.photon_data[:,0]<float(catalog_data['t90_start']))|(lc.photon_data[:,0]>float(catalog_data['t90_start'])+float(catalog_data['t90']))]\n",
    "    counts, bins = np.histogram(dat[:,1],np.logspace(0,4,100))\n",
    "    bkg_data[code] = counts\n",
    "sumed_2 = np.sum([bkg_data[code] for code in bkg_data if code != 'bn090516353'],axis=0)"
   ]
  },
  {
   "cell_type": "code",
   "execution_count": null,
   "metadata": {},
   "outputs": [],
   "source": [
    "limit = 0.61\n",
    "substracted = sumed * (np.max(sumed_2)/np.max(sumed)) - sumed_2 *limit\n",
    "cs = np.cumsum(substracted)\n",
    "plt.stairs(sumed_2/np.max(sumed_2)*limit, bins,label='Background, normalized and rescaled')\n",
    "plt.stairs(sumed/np.max(sumed), bins, label = 'Events, normalized')\n",
    "plt.stairs(sumed/np.max(sumed)-sumed_2/np.max(sumed_2)*limit, bins, label = 'Events, substracted')\n",
    "plt.xscale('log')\n",
    "plt.ylim(-0.2,1.4)\n",
    "plt.legend(loc='upper left')\n",
    "plt.axvline(50,color='b',linestyle='--')\n",
    "plt.axvline(300,color='b',linestyle='--')\n",
    "plt.xlabel('Photon energy (keV)')\n",
    "# plt.axvline(bins[np.searchsorted(cs, np.percentile(cs, 94))],color='b')\n",
    "# plt.axvline(bins[np.searchsorted(cs, np.percentile(cs, 22))],color='b')"
   ]
  },
  {
   "cell_type": "code",
   "execution_count": null,
   "metadata": {},
   "outputs": [],
   "source": [
    "substracted"
   ]
  },
  {
   "attachments": {},
   "cell_type": "markdown",
   "metadata": {},
   "source": [
    "Один всплеск не найден, скорее всего code изменился на +- 1 (из-за обновления точности каталога)"
   ]
  },
  {
   "cell_type": "code",
   "execution_count": null,
   "metadata": {},
   "outputs": [],
   "source": [
    "lc = SPI_ACS_LightCurve('2021-06-19 23:59:25', 300)"
   ]
  },
  {
   "cell_type": "code",
   "execution_count": null,
   "metadata": {},
   "outputs": [],
   "source": [
    "lc = GBM_LightCurve('bn210619999','00001000100000')"
   ]
  },
  {
   "cell_type": "code",
   "execution_count": null,
   "metadata": {},
   "outputs": [],
   "source": [
    "lc = GBM_LightCurve('bn210619999','00001000100000', data = pd.read_csv('test.csv')[['times','signal']].values)"
   ]
  },
  {
   "cell_type": "code",
   "execution_count": null,
   "metadata": {},
   "outputs": [],
   "source": [
    "lc = GBM_LightCurve.load('kek')"
   ]
  },
  {
   "cell_type": "code",
   "execution_count": null,
   "metadata": {},
   "outputs": [],
   "source": [
    "flc = FurieLightCurve(lc,(0.576-15,54.785+60))"
   ]
  },
  {
   "cell_type": "code",
   "execution_count": null,
   "metadata": {},
   "outputs": [],
   "source": [
    "flc.plot(N_bins=None,kind='plot')\n",
    "flc.plot(N_bins=20,kind='errorbar',color='black')\n",
    "plt.axhline(2,color='r')"
   ]
  },
  {
   "cell_type": "code",
   "execution_count": null,
   "metadata": {
    "collapsed": false,
    "pycharm": {
     "name": "#%%\n"
    }
   },
   "outputs": [],
   "source": [
    "\n"
   ]
  }
 ],
 "metadata": {
  "kernelspec": {
   "display_name": "base",
   "language": "python",
   "name": "python3"
  },
  "language_info": {
   "codemirror_mode": {
    "name": "ipython",
    "version": 3
   },
   "file_extension": ".py",
   "mimetype": "text/x-python",
   "name": "python",
   "nbconvert_exporter": "python",
   "pygments_lexer": "ipython3",
   "version": "3.9.13"
  },
  "vscode": {
   "interpreter": {
    "hash": "27871bb776cd64da3396aefbb91cd1f5b94cfa7205ce999e2f32adc9cda7309b"
   }
  }
 },
 "nbformat": 4,
 "nbformat_minor": 0
}
